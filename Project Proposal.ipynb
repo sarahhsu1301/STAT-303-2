{
 "cells": [
  {
   "cell_type": "raw",
   "id": "33dd6c4c",
   "metadata": {},
   "source": [
    "---\n",
    "title: \"Project proposal\"\n",
    "format: \n",
    "  html:\n",
    "    toc: true\n",
    "    toc-title: Contents\n",
    "    code-fold: show\n",
    "    self-contained: true\n",
    "jupyter: python3\n",
    "---"
   ]
  },
  {
   "cell_type": "markdown",
   "id": "0116f49b",
   "metadata": {},
   "source": [
    "## Instructions {-}\n",
    "\n",
    "1. Please answer the following questions as part of your project proposal.\n",
    "\n",
    "2. Write your answers in the *Markdown* cells of the Jupyter notebook. You don't need to write any code, but if you want to, you may use the *Code* cells.\n",
    "\n",
    "3. Use [Quarto](https://quarto.org/docs/output-formats/html-basics.html) to print the *.ipynb* file as HTML. You will need to open the command prompt, navigate to the directory containing the file, and use the command: `quarto render filename.ipynb --to html`. Submit the HTML file.\n",
    "\n",
    "4. The project proposal is worth 8 points, and is due on **27th January 2023 at 11:59 pm**. \n",
    "\n",
    "5. You must make one submission as a group, and not individually.\n",
    "\n",
    "6. Each team member must have at least **one commit** on the team's github repository. No points will be awarded to the team member(s) with no commits.\n",
    "\n",
    "7. Share the link of your project's GitHub repository [here](https://docs.google.com/spreadsheets/d/1khao3unpj_vsx4kOSg_Zzo77YK1UWL2w73Oa0aAirOo/edit#gid=0)."
   ]
  },
  {
   "cell_type": "markdown",
   "id": "fe7ea9bb",
   "metadata": {},
   "source": [
    "# 1) Team name\n",
    "Mention your team name.\n",
    "\n",
    "*(0 points)*"
   ]
  },
  {
   "cell_type": "markdown",
   "id": "010b7f0b",
   "metadata": {},
   "source": [
    "Team Global Health"
   ]
  },
  {
   "cell_type": "markdown",
   "id": "16fccc9b",
   "metadata": {},
   "source": [
    "# 2) Member names\n",
    "Mention the names of your team members.\n",
    "\n",
    "*(0 points)*"
   ]
  },
  {
   "cell_type": "markdown",
   "id": "ab866196",
   "metadata": {},
   "source": [
    "Harrison Wang, Sarah Hsu, Gemily Wang, Anika Kaura"
   ]
  },
  {
   "cell_type": "markdown",
   "id": "220a6528",
   "metadata": {},
   "source": [
    "# 3) Link to the GitHub repository\n",
    "Share the link of the team's project repository on GitHub.\n",
    "\n",
    "Also, put the link of your project's GitHub repository [here](https://docs.google.com/spreadsheets/d/1khao3unpj_vsx4kOSg_Zzo77YK1UWL2w73Oa0aAirOo/edit#gid=0).\n",
    "\n",
    "We believe there is no harm in having other teams view your GitHub repository. However, if you don't want anyone to see your team's work, you may make the repository *Private* and add your instructor and graduate TA as *Colloborators* in it.\n",
    "\n",
    "*(0 points)*"
   ]
  },
  {
   "cell_type": "markdown",
   "id": "2124ccf0",
   "metadata": {},
   "source": [
    "https://github.com/sarahhsu1301/STAT-303-2"
   ]
  },
  {
   "cell_type": "markdown",
   "id": "16c1a490",
   "metadata": {},
   "source": [
    "# 4) Topic\n",
    "Mention the topic of your course project.\n",
    "\n",
    "*(0.25 points)*"
   ]
  },
    {
   "cell_type": "markdown",
   "id": "2124ccf0",
   "metadata": {},
   "source": [
    "Price of diamonds based on carat, cut, color, clarity, length, width, depth, total depth perception, and table."
   ]
  },
  {
   "cell_type": "markdown",
   "id": "9403cdfb",
   "metadata": {},
   "source": [
    "# 5) Problem statement\n",
    "Explain the problem statement. The problem statement must include:\n",
    "\n",
    "1. The problem\n",
    "\n",
    "2. Is it a regression or classification problem or a combination of both?\n",
    "\n",
    "3. Is it an inference or prediction problem or a combination of both?\n",
    "\n",
    "4. How will you assess model accuracy?\n",
    "\n",
    "  - If it is a classification problem, then which measure(s) will you optimize for your model – precision, recall, false negative rate (FNR), accuracy, ROC-AUC etc., and why?\n",
    "  - If it is a regression problem, then which measure(s) will you optimize for your model – RMSE (Root mean squared error), MAE (mean absolute error), maximum absolute error etc., and why?\n",
    "\n",
    "5. What techniques do you think you may need to use to improve your model? If you have too many variables, some of which are  correlated or collinear, you may need to do variable selection *(techniques for variable selection that you will learn later in the course - stepwise regression, lasso, ridge regression)*. If the variables do not have a linear relationship with the response, or if some of the modeling assumptions are not satisfied, you may need to transform the predictors and/or the response (variable transformation) to obtain a better fit.\n",
    "\n",
    "*(5 points)*"
   ]
  },
  {
   "cell_type": "markdown",
   "id": "8600ed82",
   "metadata": {},
   "source": [
    "We are interested in understanding how various factors may influence the price of diamonds. This problem is a regression problem because our response of interest is a quantitative variable (price), as well as an inference problem since we want to understand the relationship between the predictors and the response. Inference will help sellers/jewelers determine the most important factors that need to be taken into account when they try to fetch the highest possible price on diamonds they make and sell.\n",
    "\n",
    "We will optimize RMSE because we want to penalize larger errors in diamond cost. Not all errors are weighed equally; As a jeweler it would be worse to undersell diamonds by a large margin because you would lose more money. From the buyer’s point of view, it would be worse to overpay by a large margin as well on diamonds that are extremely overpriced compared to the intrinsic value the model predicts.\n",
    "\n",
    "We suspect there might be a multicollinearity problem for the predictors since the dataset includes length, width, depth, and total depth percentage which is a formula that takes into account length, width, and depth values. VIF will help with determining multicollinearity for variable selection if necessary, though there do not seem to be many (logically) irrelevant variables. We also do not know if diamond price’s relationship with other variables is linear, so we may have to do variable transformation as well. "
   ]
  },
  {
   "cell_type": "markdown",
   "id": "3eb2d4f2",
   "metadata": {},
   "source": [
    "# 6) Data sources\n",
    "\n",
    "What data sources will you use, and how will the data help answer the questions? Explain.\n",
    "\n",
    "If the data is open source, share the link of the data.\n",
    "\n",
    "*(1 point)*"
   ]
  },
  {
   "cell_type": "markdown",
   "id": "9256621c",
   "metadata": {},
   "source": [
    "The dataset we will use is Tiffany & Co's snapshot pricelist from 2017. The dataset was obtained from Kaggle (https://www.kaggle.com/datasets/shivam2503/diamonds) with 53.9k rows/observations and 11 columns. \n"
   ]
  },
  {
   "cell_type": "markdown",
   "id": "cb8a845f",
   "metadata": {},
   "source": [
    "# 7) Stakeholders"
   ]
  },
  {
   "cell_type": "markdown",
   "id": "d39c782c",
   "metadata": {},
   "source": [
    "Who are the stakeholders, and how will your project benefit them? Explain.\n",
    "\n",
    "*(1 point)*"
   ]
  },
  {
   "cell_type": "markdown",
   "id": "f4341216",
   "metadata": {},
   "source": [
    "Our stakeholders are jewelers, and our project will help them better understand how to price their diamonds according to the trends of the existing market and quality of each diamond. Our stakeholders also include customers who are looking to purchase diamonds, such as for a wedding ring, in order to understand the prices that diamonds sell at in the current market, so that they are not being scammed by jewelers. "
   ]
  },
  {
   "cell_type": "markdown",
   "id": "57e41b2a",
   "metadata": {},
   "source": [
    "# 8) Results\n",
    "What kind of results do you expect? \n",
    "\n",
    "How much accuracy is required / desired in your model (based on the metric(s) chosen in question 5), such that it is useful to the stakeholders and why?\n",
    "\n",
    "**Hint:** If it is a classification model, then your model must be at least better than random classification. If it is a regression model, then your model must be at least better than trivial models, such as the one with only the intercept term.\n",
    "\n",
    "*(0.5 point)*"
   ]
  },
  {
   "cell_type": "markdown",
   "id": "1ac9f241",
   "metadata": {},
   "source": [
    "We expect to obtain a multiple linear regression model with coefficients that will help determine the amount that each quality of the diamond will contribute to the final selling price. This equation should help both buyers and sellers understand which qualities affect pricing the most, as well as what prices are considered reasonable. Considering how much people talk about carats when describing diamonds, we hypothesize that carat has the greatest effect on price, though we also expect clarity, quality of cut, and sizing dimensions to affect pricing."
   ]
  },
  {
   "cell_type": "markdown",
   "id": "0c874b4f",
   "metadata": {},
   "source": [
    "# 9) Work-split\n",
    "How do you plan to split the project work amongst individual team members?\n",
    "\n",
    "*(0.25 point)*"
   ]
  },
  {
   "cell_type": "markdown",
   "id": "1e469eec",
   "metadata": {},
   "source": [
    "Jobs to be done:\n",
    "\n",
    "- Exploratory data analysis/data cleaning: Anika\n",
    "- Variable selection: Gemily\n",
    "- Linearity assumptions: Harrison\n",
    "- Variable transformation: Sarah\n"
   ]
  }
 ],
 "metadata": {
  "kernelspec": {
   "display_name": "Python 3 (ipykernel)",
   "language": "python",
   "name": "python3"
  },
  "language_info": {
   "codemirror_mode": {
    "name": "ipython",
    "version": 3
   },
   "file_extension": ".py",
   "mimetype": "text/x-python",
   "name": "python",
   "nbconvert_exporter": "python",
   "pygments_lexer": "ipython3",
   "version": "3.9.12"
  }
 },
 "nbformat": 4,
 "nbformat_minor": 5
}
